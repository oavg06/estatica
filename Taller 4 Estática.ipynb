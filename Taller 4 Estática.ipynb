{
 "cells": [
  {
   "cell_type": "code",
   "execution_count": 118,
   "id": "2dd19285",
   "metadata": {},
   "outputs": [],
   "source": [
    "import numpy as np\n"
   ]
  },
  {
   "cell_type": "markdown",
   "id": "2756b4c4",
   "metadata": {},
   "source": [
    "# PUNTO 1"
   ]
  },
  {
   "cell_type": "code",
   "execution_count": 119,
   "id": "7624de69",
   "metadata": {},
   "outputs": [
    {
     "name": "stdout",
     "output_type": "stream",
     "text": [
      "L1=5.0\n",
      "L2=6.25\n",
      "L3=4.9\n",
      "LAB=8.663861725581729\n",
      "alpha=51.34019174590991\n",
      "beta=43.830860672092584\n"
     ]
    }
   ],
   "source": [
    "codigo='019'\n",
    "a=int((codigo)[0])\n",
    "b=int((codigo)[1])\n",
    "c=int((codigo)[2])\n",
    "L1=(5+a/5)\n",
    "L2=(6+b/4)\n",
    "L3=(4+c/10)\n",
    "H=L1+1\n",
    "gama=150\n",
    "alpha=np.arctan(L2/L1)\n",
    "beta=np.arctan(H/L2)\n",
    "LAB=H/np.sin(beta)\n",
    "print(f\"L1={L1}\")\n",
    "print(f\"L2={L2}\")\n",
    "print(f\"L3={L3}\")\n",
    "print(f\"LAB={LAB}\")\n",
    "print(f\"alpha={np.degrees(alpha)}\")\n",
    "print(f\"beta={np.degrees(beta)}\")"
   ]
  },
  {
   "cell_type": "code",
   "execution_count": 120,
   "id": "bd662643",
   "metadata": {},
   "outputs": [],
   "source": [
    "P1=gama*H**2*6/2\n",
    "P2=gama*H**2*6/2/np.sin(beta)"
   ]
  },
  {
   "cell_type": "code",
   "execution_count": 121,
   "id": "a156bcb9",
   "metadata": {},
   "outputs": [
    {
     "data": {
      "text/plain": [
       "7206.0"
      ]
     },
     "execution_count": 121,
     "metadata": {},
     "output_type": "execute_result"
    }
   ],
   "source": [
    "CB=P2*LAB/3/1.5/L2\n",
    "CB"
   ]
  },
  {
   "cell_type": "code",
   "execution_count": 122,
   "id": "2b0eea2a",
   "metadata": {},
   "outputs": [
    {
     "data": {
      "text/plain": [
       "9004.393458889943"
      ]
     },
     "execution_count": 122,
     "metadata": {},
     "output_type": "execute_result"
    }
   ],
   "source": [
    "FD=(-P1*H/3+CB*1.5*L2)/np.cos(alpha)/L2\n",
    "FD"
   ]
  },
  {
   "cell_type": "markdown",
   "id": "329874cb",
   "metadata": {},
   "source": [
    "# PUNTO 2"
   ]
  },
  {
   "cell_type": "code",
   "execution_count": 123,
   "id": "b802352e",
   "metadata": {},
   "outputs": [
    {
     "name": "stdout",
     "output_type": "stream",
     "text": [
      "L1=3.2\n",
      "L2=6.25\n",
      "alpha=52.0475790794754\n"
     ]
    }
   ],
   "source": [
    "L1=(3+b/5)\n",
    "L2=(4+c/4)\n",
    "a75=np.radians(75)\n",
    "a60=np.radians(60)\n",
    "D=2*L2/np.tan(a75)\n",
    "alpha=np.arctan(L2/(L1+D/2))\n",
    "print(f\"L1={L1}\")\n",
    "print(f\"L2={L2}\")\n",
    "print(f\"alpha={np.degrees(alpha)}\")"
   ]
  },
  {
   "cell_type": "code",
   "execution_count": 124,
   "id": "a9835bba",
   "metadata": {},
   "outputs": [
    {
     "name": "stdout",
     "output_type": "stream",
     "text": [
      "RE=1688.8467878998233\n"
     ]
    }
   ],
   "source": [
    "P1=400*2*L1\n",
    "P2=400*L1\n",
    "RE=(P1*(D+L1)+P2*(D+4*L1/3))/((D+2*L1)*np.cos(a60)+2*L2*np.sin(a60))\n",
    "print(f\"RE={RE}\")"
   ]
  },
  {
   "cell_type": "code",
   "execution_count": 125,
   "id": "056d1eb6",
   "metadata": {},
   "outputs": [
    {
     "name": "stdout",
     "output_type": "stream",
     "text": [
      "BD=-3269.1805015870295\n"
     ]
    }
   ],
   "source": [
    "BD=(RE*np.cos(a60)*2*L1-P1*L1-P2*4*L1/3)/(L1*np.sin(alpha))\n",
    "print(f\"BD={BD}\")"
   ]
  },
  {
   "cell_type": "code",
   "execution_count": 126,
   "id": "31c08d25",
   "metadata": {},
   "outputs": [
    {
     "name": "stdout",
     "output_type": "stream",
     "text": [
      "Cy=417.75672728324525\n"
     ]
    }
   ],
   "source": [
    "Cy=P1+P2-RE*np.cos(a60)+BD*np.sin(alpha)\n",
    "print(f\"Cy={Cy}\")"
   ]
  },
  {
   "cell_type": "markdown",
   "id": "9c5d9e82",
   "metadata": {},
   "source": [
    "# Diagramas "
   ]
  },
  {
   "cell_type": "code",
   "execution_count": 127,
   "id": "cf1fbf85",
   "metadata": {},
   "outputs": [],
   "source": [
    "from sympy import symbols\n",
    "from sympy.plotting import plot\n",
    "x=symbols('x')"
   ]
  },
  {
   "cell_type": "markdown",
   "id": "d7b9b129",
   "metadata": {},
   "source": [
    "## Cortante"
   ]
  },
  {
   "cell_type": "code",
   "execution_count": 128,
   "id": "b6aeeaf9",
   "metadata": {
    "scrolled": true
   },
   "outputs": [
    {
     "data": {
      "image/png": "[encoded data removed]",
      "text/plain": [
       "<Figure size 432x288 with 1 Axes>"
      ]
     },
     "metadata": {
      "needs_background": "light"
     },
     "output_type": "display_data"
    },
    {
     "data": {
      "text/plain": [
       "<sympy.plotting.plot.Plot at 0x204ce5cc910>"
      ]
     },
     "execution_count": 128,
     "metadata": {},
     "output_type": "execute_result"
    }
   ],
   "source": [
    "V1=-400*x-100*x**2/L1+Cy\n",
    "V2=-400*x-100*x**2/L1+Cy-BD*np.sin(alpha)\n",
    "plot((V1, (x, 0, L1)), (V2, (x, L1,2*L1)))"
   ]
  },
  {
   "cell_type": "markdown",
   "id": "f1bfcd24",
   "metadata": {},
   "source": [
    "## Momento\n"
   ]
  },
  {
   "cell_type": "code",
   "execution_count": 129,
   "id": "fd402932",
   "metadata": {},
   "outputs": [
    {
     "data": {
      "image/png": "[encoded data removed]",
      "text/plain": [
       "<Figure size 432x288 with 1 Axes>"
      ]
     },
     "metadata": {
      "needs_background": "light"
     },
     "output_type": "display_data"
    },
    {
     "data": {
      "text/plain": [
       "<sympy.plotting.plot.Plot at 0x204ce5ebd90>"
      ]
     },
     "execution_count": 129,
     "metadata": {},
     "output_type": "execute_result"
    }
   ],
   "source": [
    "M1=Cy*x-400*x**2/2-100*x**3/(3*L1)\n",
    "M2=Cy*x-400*x**2/2-100*x**3/(3*L1)-BD*np.sin(alpha)*(x-L1)\n",
    "plot((M1, (x, 0, L1)), (M2, (x, L1,2*L1)))"
   ]
  },
  {
   "cell_type": "markdown",
   "id": "fd4a6ca2",
   "metadata": {},
   "source": [
    "## Punto 4"
   ]
  },
  {
   "cell_type": "code",
   "execution_count": 130,
   "id": "883f7e54",
   "metadata": {},
   "outputs": [
    {
     "name": "stdout",
     "output_type": "stream",
     "text": [
      "L1=9\n"
     ]
    }
   ],
   "source": [
    "import pandas as pd\n",
    "tabla=pd.DataFrame()\n",
    "if c==0:L1=b\n",
    "else:L1=c\n",
    "pi=np.pi\n",
    "D=3*L1\n",
    "r=D/2\n",
    "A=np.zeros([4,1])\n",
    "y=np.zeros([4,1])\n",
    "x=np.zeros([4,1])\n",
    "print(f\"L1={L1}\")"
   ]
  },
  {
   "cell_type": "code",
   "execution_count": 131,
   "id": "eac6e762",
   "metadata": {},
   "outputs": [
    {
     "name": "stdout",
     "output_type": "stream",
     "text": [
      "A1 [286.27763056]\n",
      "A2 [729.]\n",
      "A3 [-121.5]\n",
      "El área total es [893.77763056]\n"
     ]
    }
   ],
   "source": [
    "## Áreas\n",
    "A[1]=pi*r**2/2\n",
    "A[2]=(3*L1)**2\n",
    "A[3]=-(3*L1)*L1/2\n",
    "## Centroides en X\n",
    "x[1]=3*L1/2\n",
    "x[2]=3*L1/2\n",
    "x[3]=3*L1/2\n",
    "## Centroides en y\n",
    "y[1]=3*L1+4*r/(3*pi)\n",
    "y[2]=3*L1/2\n",
    "y[3]=L1\n",
    "print(f\"A1 {A[1]}\")\n",
    "print(f\"A2 {A[2]}\")\n",
    "print(f\"A3 {A[3]}\")\n",
    "print(f\"El área total es {sum(A)}\")"
   ]
  },
  {
   "cell_type": "code",
   "execution_count": 132,
   "id": "09792fec",
   "metadata": {},
   "outputs": [
    {
     "name": "stdout",
     "output_type": "stream",
     "text": [
      "Mx=[18117.74602508]\n",
      "yt=[20.27097726]\n"
     ]
    }
   ],
   "source": [
    "## Centroide yt de la figura\n",
    "Mx=A*y\n",
    "yt=sum(Mx)/sum(A)\n",
    "print(f\"Mx={sum(Mx)}\")\n",
    "print(f\"yt={yt}\")"
   ]
  },
  {
   "cell_type": "markdown",
   "id": "5bfb180d",
   "metadata": {},
   "source": [
    "# Centroide con respecto al eje X"
   ]
  },
  {
   "cell_type": "code",
   "execution_count": 133,
   "id": "3f28618c",
   "metadata": {},
   "outputs": [
    {
     "name": "stdout",
     "output_type": "stream",
     "text": [
      "Ix1= 310313.4172193673\n",
      "Ix2= 177147.0\n",
      "Ix3= 14762.25\n",
      "IX= 472698.1672193673\n"
     ]
    }
   ],
   "source": [
    "#Figura 1\n",
    "Icx1=1/8*pi*r**4-pi*r**2/2*(4*r/(3*pi))**2\n",
    "Ix1=Icx1+pi*r**2/2*y[1][0]**2\n",
    "# Figura 2\n",
    "Ix2=3*L1*(3*L1)**3/3\n",
    "# Figura 3\n",
    "Ix3=L1*(3*L1)**3/12\n",
    "#Inercia Total\n",
    "IX=Ix1+Ix2-Ix3\n",
    "print(f\"Ix1= {Ix1}\")\n",
    "print(f\"Ix2= {Ix2}\")\n",
    "print(f\"Ix3= {Ix3}\")\n",
    "print(f\"IX= {IX}\")"
   ]
  },
  {
   "cell_type": "markdown",
   "id": "d2c7accf",
   "metadata": {},
   "source": [
    "# Centroide con respecto al eje Y"
   ]
  },
  {
   "cell_type": "code",
   "execution_count": 134,
   "id": "09fa8f1c",
   "metadata": {},
   "outputs": [
    {
     "name": "stdout",
     "output_type": "stream",
     "text": [
      "Iy1= 65217.622711578646\n",
      "Iy2= 177147.0\n",
      "Iy3= 22553.4375\n",
      "IY= 219811.18521157865\n"
     ]
    }
   ],
   "source": [
    "#Figura 1\n",
    "Icy1=1/8*pi*r**4\n",
    "Iy1=Icy1+A[1][0]*x[1][0]**2\n",
    "# Figura 2\n",
    "Iy2=3*L1*(3*L1)**3/3\n",
    "# Figura 3\n",
    "Icy3=3*L1*(L1/2)**3/6\n",
    "Iy3=Icy3+abs(A[3][0])*x[3][0]**2\n",
    "#Inercia Total\n",
    "IY=Iy1+Iy2-Iy3\n",
    "print(f\"Iy1= {Iy1}\")\n",
    "print(f\"Iy2= {Iy2}\")\n",
    "print(f\"Iy3= {Iy3}\")\n",
    "print(f\"IY= {IY}\")"
   ]
  },
  {
   "cell_type": "markdown",
   "id": "25ab6023",
   "metadata": {},
   "source": [
    "# Centroide con respecto centroide paralelo al eje X"
   ]
  },
  {
   "cell_type": "code",
   "execution_count": 135,
   "id": "3e4cfc2b",
   "metadata": {},
   "outputs": [
    {
     "name": "stdout",
     "output_type": "stream",
     "text": [
      "Ixt1= [48080.66233024]\n",
      "Ixt2= [77708.58100327]\n",
      "Ixt3= [20355.49380167]\n",
      "IXt= [105433.74953184]\n"
     ]
    }
   ],
   "source": [
    "#Figura 1\n",
    "Ixt1=Icx1+A[1]*(yt-y[1])**2\n",
    "# Figura 2\n",
    "Ixt2=3*L1*(3*L1)**3/12+A[2]*(yt-y[2])**2\n",
    "# Figura 3\n",
    "Ixt3=1/36*L1*(3*L1)**3+abs(A[3])*(yt-y[3])**2\n",
    "#Inercia Total\n",
    "IXt=Ixt1+Ixt2-Ixt3\n",
    "print(f\"Ixt1= {Ixt1}\")\n",
    "print(f\"Ixt2= {Ixt2}\")\n",
    "print(f\"Ixt3= {Ixt3}\")\n",
    "print(f\"IXt= {IXt}\")"
   ]
  },
  {
   "cell_type": "code",
   "execution_count": null,
   "id": "93ffb29b",
   "metadata": {},
   "outputs": [],
   "source": []
  }
 ],
 "metadata": {
  "kernelspec": {
   "display_name": "Python 3",
   "language": "python",
   "name": "python3"
  },
  "language_info": {
   "codemirror_mode": {
    "name": "ipython",
    "version": 3
   },
   "file_extension": ".py",
   "mimetype": "text/x-python",
   "name": "python",
   "nbconvert_exporter": "python",
   "pygments_lexer": "ipython3",
   "version": "3.8.8"
  },
  "varInspector": {
   "cols": {
    "lenName": 16,
    "lenType": 16,
    "lenVar": 40
   },
   "kernels_config": {
    "python": {
     "delete_cmd_postfix": "",
     "delete_cmd_prefix": "del ",
     "library": "var_list.py",
     "varRefreshCmd": "print(var_dic_list())"
    },
    "r": {
     "delete_cmd_postfix": ") ",
     "delete_cmd_prefix": "rm(",
     "library": "var_list.r",
     "varRefreshCmd": "cat(var_dic_list()) "
    }
   },
   "types_to_exclude": [
    "module",
    "function",
    "builtin_function_or_method",
    "instance",
    "_Feature"
   ],
   "window_display": false
  }
 },
 "nbformat": 4,
 "nbformat_minor": 5
}
