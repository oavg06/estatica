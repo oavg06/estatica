{
 "cells": [
  {
   "cell_type": "code",
   "execution_count": null,
   "id": "b31ed221",
   "metadata": {},
   "outputs": [],
   "source": [
    "import numpy as np\n"
   ]
  },
  {
   "cell_type": "markdown",
   "id": "2886f14d",
   "metadata": {},
   "source": [
    "# PUNTO 1"
   ]
  },
  {
   "cell_type": "code",
   "execution_count": null,
   "id": "c790dfe7",
   "metadata": {},
   "outputs": [],
   "source": [
    "codigo='019'\n",
    "a=int((codigo)[0])\n",
    "b=int((codigo)[1])\n",
    "c=int((codigo)[2])\n",
    "L1=(5+a/5)\n",
    "L2=(6+b/4)\n",
    "L3=(4+c/10)\n",
    "H=L1+1\n",
    "gama=150\n",
    "alpha=np.arctan(L2/L1)\n",
    "beta=np.arctan(H/L2)\n",
    "LAB=H/np.sin(beta)\n",
    "print(f\"L1={L1}\")\n",
    "print(f\"L2={L2}\")\n",
    "print(f\"L3={L3}\")\n",
    "print(f\"LAB={LAB}\")\n",
    "print(f\"alpha={np.degrees(alpha)}\")\n",
    "print(f\"beta={np.degrees(beta)}\")"
   ]
  },
  {
   "cell_type": "code",
   "execution_count": null,
   "id": "ea0fc427",
   "metadata": {},
   "outputs": [],
   "source": [
    "P1=gama*H**2*6/2\n",
    "P2=gama*H**2*6/2/np.sin(beta)"
   ]
  },
  {
   "cell_type": "code",
   "execution_count": null,
   "id": "c3f4ecaf",
   "metadata": {},
   "outputs": [],
   "source": [
    "CB=P2*LAB/3/1.5/L2\n",
    "CB"
   ]
  },
  {
   "cell_type": "code",
   "execution_count": null,
   "id": "f71ca610",
   "metadata": {},
   "outputs": [],
   "source": [
    "FD=(-P1*H/3+CB*1.5*L2)/np.cos(alpha)/L2\n",
    "FD"
   ]
  },
  {
   "cell_type": "markdown",
   "id": "dc93bc5e",
   "metadata": {},
   "source": [
    "# PUNTO 2"
   ]
  },
  {
   "cell_type": "code",
   "execution_count": null,
   "id": "70aa716e",
   "metadata": {},
   "outputs": [],
   "source": [
    "L1=(3+b/5)\n",
    "L2=(4+c/4)\n",
    "a75=np.radians(75)\n",
    "a60=np.radians(60)\n",
    "D=2*L2/np.tan(a75)\n",
    "alpha=np.arctan(L2/(L1+D/2))\n",
    "print(f\"L1={L1}\")\n",
    "print(f\"L2={L2}\")\n",
    "print(f\"alpha={np.degrees(alpha)}\")"
   ]
  },
  {
   "cell_type": "code",
   "execution_count": null,
   "id": "75e8e6b5",
   "metadata": {},
   "outputs": [],
   "source": [
    "P1=400*2*L1\n",
    "P2=400*L1\n",
    "RE=(P1*(D+L1)+P2*(D+4*L1/3))/((D+2*L1)*np.cos(a60)+2*L2*np.sin(a60))\n",
    "print(f\"RE={RE}\")"
   ]
  },
  {
   "cell_type": "code",
   "execution_count": null,
   "id": "b4fd9d92",
   "metadata": {},
   "outputs": [],
   "source": [
    "BD=(RE*np.cos(a60)*2*L1-P1*L1-P2*4*L1/3)/(L1*np.sin(alpha))\n",
    "print(f\"BD={BD}\")"
   ]
  },
  {
   "cell_type": "code",
   "execution_count": null,
   "id": "f7a99a88",
   "metadata": {},
   "outputs": [],
   "source": [
    "Cy=P1+P2-RE*np.cos(a60)+BD*np.sin(alpha)\n",
    "print(f\"Cy={Cy}\")"
   ]
  },
  {
   "cell_type": "markdown",
   "id": "002adb8c",
   "metadata": {},
   "source": [
    "# Diagramas "
   ]
  },
  {
   "cell_type": "code",
   "execution_count": null,
   "id": "d84034fd",
   "metadata": {},
   "outputs": [],
   "source": [
    "from sympy import symbols\n",
    "from sympy.plotting import plot\n",
    "x=symbols('x')"
   ]
  },
  {
   "cell_type": "markdown",
   "id": "86c7a6c2",
   "metadata": {},
   "source": [
    "## Cortante"
   ]
  },
  {
   "cell_type": "code",
   "execution_count": null,
   "id": "7cf8b680",
   "metadata": {
    "scrolled": true
   },
   "outputs": [],
   "source": [
    "V1=-400*x-100*x**2/L1+Cy\n",
    "V2=-400*x-100*x**2/L1+Cy-BD*np.sin(alpha)\n",
    "plot((V1, (x, 0, L1)), (V2, (x, L1,2*L1)))"
   ]
  },
  {
   "cell_type": "markdown",
   "id": "78919010",
   "metadata": {},
   "source": [
    "## Momento\n"
   ]
  },
  {
   "cell_type": "code",
   "execution_count": null,
   "id": "8841447a",
   "metadata": {},
   "outputs": [],
   "source": [
    "M1=Cy*x-400*x**2/2-100*x**3/(3*L1)\n",
    "M2=Cy*x-400*x**2/2-100*x**3/(3*L1)-BD*np.sin(alpha)*(x-L1)\n",
    "plot((M1, (x, 0, L1)), (M2, (x, L1,2*L1)))"
   ]
  },
  {
   "cell_type": "markdown",
   "id": "bd581f05",
   "metadata": {},
   "source": [
    "## Punto 4"
   ]
  },
  {
   "cell_type": "code",
   "execution_count": null,
   "id": "42a54c65",
   "metadata": {},
   "outputs": [],
   "source": [
    "if c==0:L1=b\n",
    "else:L1=c\n",
    "pi=np.pi\n",
    "D=3*L1\n",
    "r=D/2\n",
    "A=np.zeros([4,1])\n",
    "y=np.zeros([4,1])\n",
    "x=np.zeros([4,1])\n",
    "print(f\"L1={L1}\")"
   ]
  },
  {
   "cell_type": "code",
   "execution_count": null,
   "id": "d268a00f",
   "metadata": {},
   "outputs": [],
   "source": [
    "## Áreas\n",
    "A[1]=pi*r**2/2\n",
    "A[2]=(3*L1)**2\n",
    "A[3]=-(3*L1)*L1/2\n",
    "## Centroides en X\n",
    "x[1]=3*L1/2\n",
    "x[2]=3*L1/2\n",
    "x[3]=3*L1/2\n",
    "## Centroides en y\n",
    "y[1]=3*L1+4*r/(3*pi)\n",
    "y[2]=3*L1/2\n",
    "y[3]=L1\n",
    "print(f\"A1 {A[1]}\")\n",
    "print(f\"A2 {A[2]}\")\n",
    "print(f\"A3 {A[3]}\")\n",
    "print(f\"El área total es {sum(A)}\")"
   ]
  },
  {
   "cell_type": "code",
   "execution_count": null,
   "id": "a7bb613d",
   "metadata": {},
   "outputs": [],
   "source": [
    "## Centroide yt de la figura\n",
    "Mx=A*y\n",
    "yt=sum(Mx)/sum(A)\n",
    "print(f\"Mx={sum(Mx)}\")\n",
    "print(f\"yt={yt}\")"
   ]
  },
  {
   "cell_type": "markdown",
   "id": "275cf048",
   "metadata": {},
   "source": [
    "# Centroide con respecto al eje X"
   ]
  },
  {
   "cell_type": "code",
   "execution_count": null,
   "id": "bb0e2a87",
   "metadata": {},
   "outputs": [],
   "source": [
    "#Figura 1\n",
    "Icx1=1/8*pi*r**4-pi*r**2/2*(4*r/(3*pi))**2\n",
    "Ix1=Icx1+pi*r**2/2*y[1][0]**2\n",
    "# Figura 2\n",
    "Ix2=3*L1*(3*L1)**3/3\n",
    "# Figura 3\n",
    "Ix3=L1*(3*L1)**3/12\n",
    "#Inercia Total\n",
    "IX=Ix1+Ix2-Ix3\n",
    "print(f\"Ix1= {Ix1}\")\n",
    "print(f\"Ix2= {Ix2}\")\n",
    "print(f\"Ix3= {Ix3}\")\n",
    "print(f\"IX= {IX}\")"
   ]
  },
  {
   "cell_type": "markdown",
   "id": "c74d720a",
   "metadata": {},
   "source": [
    "# Centroide con respecto al eje Y"
   ]
  },
  {
   "cell_type": "code",
   "execution_count": null,
   "id": "2d9a24aa",
   "metadata": {},
   "outputs": [],
   "source": [
    "#Figura 1\n",
    "Icy1=1/8*pi*r**4\n",
    "Iy1=Icy1+A[1][0]*x[1][0]**2\n",
    "# Figura 2\n",
    "Iy2=3*L1*(3*L1)**3/3\n",
    "# Figura 3\n",
    "Icy3=3*L1*(L1/2)**3/6\n",
    "Iy3=Icy3+abs(A[3][0])*x[3][0]**2\n",
    "#Inercia Total\n",
    "IY=Iy1+Iy2-Iy3\n",
    "print(f\"Iy1= {Iy1}\")\n",
    "print(f\"Iy2= {Iy2}\")\n",
    "print(f\"Iy3= {Iy3}\")\n",
    "print(f\"IY= {IY}\")"
   ]
  },
  {
   "cell_type": "markdown",
   "id": "d1ec7bc1",
   "metadata": {},
   "source": [
    "# Centroide con respecto centroide paralelo al eje X"
   ]
  },
  {
   "cell_type": "code",
   "execution_count": null,
   "id": "77104147",
   "metadata": {},
   "outputs": [],
   "source": [
    "#Figura 1\n",
    "Ixt1=Icx1+A[1]*(yt-y[1])**2\n",
    "# Figura 2\n",
    "Ixt2=3*L1*(3*L1)**3/12+A[2]*(yt-y[2])**2\n",
    "# Figura 3\n",
    "Ixt3=1/36*L1*(3*L1)**3+abs(A[3])*(yt-y[3])**2\n",
    "#Inercia Total\n",
    "IXt=Ixt1+Ixt2-Ixt3\n",
    "print(f\"Ixt1= {Ixt1}\")\n",
    "print(f\"Ixt2= {Ixt2}\")\n",
    "print(f\"Ixt3= {Ixt3}\")\n",
    "print(f\"IXt= {IXt}\")"
   ]
  },
  {
   "cell_type": "code",
   "execution_count": null,
   "id": "5e3d732f",
   "metadata": {},
   "outputs": [],
   "source": []
  }
 ],
 "metadata": {
  "kernelspec": {
   "display_name": "Python 3",
   "language": "python",
   "name": "python3"
  },
  "language_info": {
   "codemirror_mode": {
    "name": "ipython",
    "version": 3
   },
   "file_extension": ".py",
   "mimetype": "text/x-python",
   "name": "python",
   "nbconvert_exporter": "python",
   "pygments_lexer": "ipython3",
   "version": "3.8.8"
  },
  "varInspector": {
   "cols": {
    "lenName": 16,
    "lenType": 16,
    "lenVar": 40
   },
   "kernels_config": {
    "python": {
     "delete_cmd_postfix": "",
     "delete_cmd_prefix": "del ",
     "library": "var_list.py",
     "varRefreshCmd": "print(var_dic_list())"
    },
    "r": {
     "delete_cmd_postfix": ") ",
     "delete_cmd_prefix": "rm(",
     "library": "var_list.r",
     "varRefreshCmd": "cat(var_dic_list()) "
    }
   },
   "types_to_exclude": [
    "module",
    "function",
    "builtin_function_or_method",
    "instance",
    "_Feature"
   ],
   "window_display": false
  }
 },
 "nbformat": 4,
 "nbformat_minor": 5
}
